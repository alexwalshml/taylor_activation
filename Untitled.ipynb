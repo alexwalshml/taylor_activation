{
 "cells": [
  {
   "cell_type": "code",
   "execution_count": 1,
   "id": "3e01e48f",
   "metadata": {},
   "outputs": [],
   "source": [
    "%load_ext tensorboard"
   ]
  },
  {
   "cell_type": "code",
   "execution_count": 2,
   "id": "9ce2fe77",
   "metadata": {},
   "outputs": [],
   "source": [
    "import tensorflow as tf\n",
    "import numpy as np\n",
    "from keras import layers\n",
    "from keras.preprocessing.image import ImageDataGenerator"
   ]
  },
  {
   "cell_type": "code",
   "execution_count": 3,
   "id": "4ed8a87a",
   "metadata": {},
   "outputs": [
    {
     "name": "stdout",
     "output_type": "stream",
     "text": [
      "INFO:tensorflow:Enabled dumping callback in thread MainThread (dump root: /tmp/tfdbg2_logdir, tensor debug mode: FULL_HEALTH)\n"
     ]
    },
    {
     "data": {
      "text/plain": [
       "<tensorflow.python.debug.lib.debug_events_writer.DebugEventsWriter at 0x1d48da5d600>"
      ]
     },
     "execution_count": 3,
     "metadata": {},
     "output_type": "execute_result"
    }
   ],
   "source": [
    "tf.data.experimental.enable_debug_mode()\n",
    "tf.config.run_functions_eagerly(True)\n",
    "tf.debugging.experimental.enable_dump_debug_info(\n",
    "    \"/tmp/tfdbg2_logdir\",\n",
    "    tensor_debug_mode=\"FULL_HEALTH\",\n",
    "    circular_buffer_size=-1)"
   ]
  },
  {
   "cell_type": "code",
   "execution_count": 4,
   "id": "42f8d16b",
   "metadata": {},
   "outputs": [],
   "source": [
    "class TaylorActivation(tf.keras.layers.Layer):\n",
    "    def __init__(self, output_dim, order, w=None, clip_lower_bound=-1., clip_upper_bound=1.):\n",
    "        super(TaylorActivation, self).__init__()\n",
    "        self.output_dim = output_dim\n",
    "        self.order = order\n",
    "        self.w = w\n",
    "        self.clip_lower_bound = clip_lower_bound\n",
    "        self.clip_upper_bound = clip_upper_bound\n",
    "        self.input_terms = None\n",
    "        self.batch_size = None\n",
    "\n",
    "    def build(self, input_shape):\n",
    "        input_terms = 1\n",
    "        for s in input_shape[1:]:\n",
    "            input_terms *= s\n",
    "        self.batch_size = input_shape[0]\n",
    "        self.input_terms = input_terms\n",
    "\n",
    "        np.random.seed(2)\n",
    "        base = np.random.normal(0, 1, 100)\n",
    "        base = base * 1e-5\n",
    "        initial = tf.constant(base[0: self.order + 1], dtype=tf.float32)\n",
    "\n",
    "        self.w = tf.Variable(name=\"coefficients\",\n",
    "                             initial_value=tf.reshape(initial, [self.order + 1, 1]), # tf.random_normal_initializer()(shape=[self.order + 1, 1]),\n",
    "                             trainable=True)\n",
    "\n",
    "    def call(self, inputs):\n",
    "        taylor = None\n",
    "        initial_shape = tf.shape(inputs)\n",
    "        reshaped_input = tf.reshape(inputs, [initial_shape[0], self.input_terms, 1])\n",
    "        for i in range(self.order + 1):\n",
    "            i_factorial = 1.\n",
    "            for m in range(1, i + 1):\n",
    "                i_factorial *= m\n",
    "            new_term = tf.math.pow(reshaped_input, i) / i_factorial\n",
    "            if i == 0:\n",
    "                taylor = new_term\n",
    "            else:\n",
    "                taylor = tf.concat([taylor, new_term], axis=2)\n",
    "\n",
    "        flat_output = tf.reduce_sum(tf.matmul(taylor, self.w), axis=2)\n",
    "        output_shaped = tf.reshape(flat_output, initial_shape)\n",
    "\n",
    "        output_shaped = tf.clip_by_value(output_shaped, self.clip_lower_bound, self.clip_upper_bound)\n",
    "\n",
    "        return output_shaped\n",
    "\n"
   ]
  },
  {
   "cell_type": "code",
   "execution_count": 5,
   "id": "a3eb64ea",
   "metadata": {},
   "outputs": [
    {
     "name": "stdout",
     "output_type": "stream",
     "text": [
      "Found 8005 images belonging to 2 classes.\n",
      "WARNING:tensorflow:Failed to read source code from path: C:\\Users\\awals\\AppData\\Local\\Temp\\ipykernel_4072\\3163894904.py. Reason: Source path neither exists nor can be loaded as a .par file: C:\\Users\\awals\\AppData\\Local\\Temp\\ipykernel_4072\\3163894904.py\n",
      "WARNING:tensorflow:Failed to read source code from path: C:\\Users\\awals\\AppData\\Local\\Temp\\ipykernel_4072\\641541035.py. Reason: Source path neither exists nor can be loaded as a .par file: C:\\Users\\awals\\AppData\\Local\\Temp\\ipykernel_4072\\641541035.py\n"
     ]
    }
   ],
   "source": [
    "train_datapipe = ImageDataGenerator(rescale=1./255)\n",
    "train_data = train_datapipe.flow_from_directory(\"cats_and_dogs/training_set/training_set\",\n",
    "                                                target_size=(64, 64),\n",
    "                                                batch_size=32,\n",
    "                                                class_mode='binary')\n",
    "\n",
    "cross_entropy_upper = 1. - 1e-7\n",
    "cross_entropy_lower = 1e-7\n",
    "taylor_model = tf.keras.Sequential([layers.Conv2D(32, (3, 3), input_shape=(64, 64, 3)),\n",
    "                                    TaylorActivation(32, order=8),\n",
    "                                    #layers.MaxPool2D((2, 2)),\n",
    "                                    #layers.Conv2D(64, (3, 3)),\n",
    "                                    #TaylorActivation(64, order=8),\n",
    "                                    #layers.MaxPool2D((2, 2)),\n",
    "                                    #layers.Conv2D(64, (3, 3)),\n",
    "                                    #TaylorActivation(64, order=8),\n",
    "                                    #layers.Flatten(),\n",
    "                                    #layers.Dense(128),\n",
    "                                    #TaylorActivation(128, order=8),\n",
    "                                    layers.Dense(1),\n",
    "                                    TaylorActivation(1,\n",
    "                                                     order=8,\n",
    "                                                     clip_lower_bound=cross_entropy_lower,\n",
    "                                                     clip_upper_bound=cross_entropy_upper)])"
   ]
  },
  {
   "cell_type": "code",
   "execution_count": 6,
   "id": "16d8305e",
   "metadata": {},
   "outputs": [
    {
     "data": {
      "text/plain": [
       "Reusing TensorBoard on port 6006 (pid 14256), started 0:02:37 ago. (Use '!kill 14256' to kill it.)"
      ]
     },
     "metadata": {},
     "output_type": "display_data"
    },
    {
     "data": {
      "text/html": [
       "\n",
       "      <iframe id=\"tensorboard-frame-202a25f5c280eed\" width=\"100%\" height=\"800\" frameborder=\"0\">\n",
       "      </iframe>\n",
       "      <script>\n",
       "        (function() {\n",
       "          const frame = document.getElementById(\"tensorboard-frame-202a25f5c280eed\");\n",
       "          const url = new URL(\"/\", window.location);\n",
       "          const port = 6006;\n",
       "          if (port) {\n",
       "            url.port = port;\n",
       "          }\n",
       "          frame.src = url;\n",
       "        })();\n",
       "      </script>\n",
       "    "
      ],
      "text/plain": [
       "<IPython.core.display.HTML object>"
      ]
     },
     "metadata": {},
     "output_type": "display_data"
    }
   ],
   "source": [
    "tensorboard --logdir /tmp/tfdbg2_logdir"
   ]
  },
  {
   "cell_type": "code",
   "execution_count": 7,
   "id": "fa4d0d27",
   "metadata": {},
   "outputs": [
    {
     "name": "stdout",
     "output_type": "stream",
     "text": [
      "WARNING:tensorflow:Failed to read source code from path: C:\\Users\\awals\\AppData\\Local\\Temp\\ipykernel_4072\\1167298088.py. Reason: Source path neither exists nor can be loaded as a .par file: C:\\Users\\awals\\AppData\\Local\\Temp\\ipykernel_4072\\1167298088.py\n",
      "251/251 [==============================] - 1168s 5s/step - loss: nan - accuracy: 0.4997\n"
     ]
    },
    {
     "data": {
      "text/plain": [
       "<keras.callbacks.History at 0x1d4bacca1d0>"
      ]
     },
     "execution_count": 7,
     "metadata": {},
     "output_type": "execute_result"
    }
   ],
   "source": [
    "taylor_model.compile(optimizer=tf.keras.optimizers.Adam(),\n",
    "                     loss='binary_crossentropy',\n",
    "                     metrics='accuracy')\n",
    "\n",
    "taylor_model.fit(train_data, epochs=1)"
   ]
  },
  {
   "cell_type": "code",
   "execution_count": 8,
   "id": "ce49a86f",
   "metadata": {},
   "outputs": [
    {
     "data": {
      "text/plain": [
       "Reusing TensorBoard on port 6006 (pid 14256), started 0:22:06 ago. (Use '!kill 14256' to kill it.)"
      ]
     },
     "metadata": {},
     "output_type": "display_data"
    },
    {
     "data": {
      "text/html": [
       "\n",
       "      <iframe id=\"tensorboard-frame-45178181321bf2f3\" width=\"100%\" height=\"800\" frameborder=\"0\">\n",
       "      </iframe>\n",
       "      <script>\n",
       "        (function() {\n",
       "          const frame = document.getElementById(\"tensorboard-frame-45178181321bf2f3\");\n",
       "          const url = new URL(\"/\", window.location);\n",
       "          const port = 6006;\n",
       "          if (port) {\n",
       "            url.port = port;\n",
       "          }\n",
       "          frame.src = url;\n",
       "        })();\n",
       "      </script>\n",
       "    "
      ],
      "text/plain": [
       "<IPython.core.display.HTML object>"
      ]
     },
     "metadata": {},
     "output_type": "display_data"
    }
   ],
   "source": [
    "tensorboard --logdir /tmp/tfdbg2_logdir"
   ]
  },
  {
   "cell_type": "code",
   "execution_count": null,
   "id": "38fd559e",
   "metadata": {},
   "outputs": [],
   "source": []
  }
 ],
 "metadata": {
  "kernelspec": {
   "display_name": "Python 3 (ipykernel)",
   "language": "python",
   "name": "python3"
  },
  "language_info": {
   "codemirror_mode": {
    "name": "ipython",
    "version": 3
   },
   "file_extension": ".py",
   "mimetype": "text/x-python",
   "name": "python",
   "nbconvert_exporter": "python",
   "pygments_lexer": "ipython3",
   "version": "3.10.6"
  }
 },
 "nbformat": 4,
 "nbformat_minor": 5
}
